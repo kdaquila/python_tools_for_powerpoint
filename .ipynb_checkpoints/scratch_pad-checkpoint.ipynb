{
 "cells": [
  {
   "cell_type": "code",
   "execution_count": 123,
   "metadata": {},
   "outputs": [],
   "source": [
    "import openpyxl\n",
    "\n",
    "def find_closest_number(items, target):       \n",
    "    return items[min(range(len(items)), key = lambda i: abs(items[i]-target))] \n",
    "\n",
    "def is_subscriptable(obj):\n",
    "    try:\n",
    "        len(obj)\n",
    "        return True\n",
    "    except TypeError:\n",
    "        return False\n",
    "\n",
    "def is_iterable(obj):\n",
    "    try:\n",
    "        iter(obj)\n",
    "        return True\n",
    "    except TypeError:\n",
    "        return False\n",
    "    \n",
    "def is_sheet_cell_ref(obj):\n",
    "    if is_subscriptable(obj) and is_iterable(obj) and obj[0] == '=' and \"!\" in obj:\n",
    "        return True\n",
    "    else:\n",
    "        return False\n",
    "    \n",
    "def get_rbg_from_color_obj(color_obj):\n",
    "    if color_obj is None:\n",
    "        return None    \n",
    "    color_type = color_obj.type\n",
    "    if color_type == 'theme':\n",
    "        theme_val = color_obj.theme\n",
    "        tint_val = color_obj.tint\n",
    "        return find_theme_color_hex(theme_val, tint_val, office_theme_colors)    \n",
    "    elif color_type == 'indexed':    \n",
    "        return openpyxl.styles.colors.COLOR_INDEX[color_obj.value - 1]\n",
    "    elif color_type == 'rgb':\n",
    "        return color_obj.value\n",
    "    \n",
    "def get_border_thickness_in_pixels(border_obj):\n",
    "    if border_obj.style is None:\n",
    "        return 0\n",
    "    \n",
    "    border_options = {'hair': 1,\n",
    "                      'thin': 2,\n",
    "                      'medium': 3,\n",
    "                      'thick': 4}\n",
    "    for (key, value) in border_options.items():\n",
    "        if key in border_obj.style:\n",
    "            return value\n",
    "    \n",
    "    return 1\n",
    "    \n",
    "    \n",
    "def get_cell_value(wb, sheet, cell):\n",
    "    \n",
    "    cell_raw_value = wb[sheet][cell].value       \n",
    "    if is_sheet_cell_ref(cell_raw_value):\n",
    "        (sheet, cell) = cell_raw_value.strip(\"=\").split(\"!\")      \n",
    "        sheet = sheet.strip(\"'\")\n",
    "\n",
    "    return wb[sheet][cell].value\n",
    "\n",
    "def get_cell_font_color(wb, sheet, cell):\n",
    "    return get_rbg_from_color_obj(wb[sheet][cell].font.color)\n",
    "\n",
    "def get_cell_fill_color(wb, sheet, cell):\n",
    "    return get_rbg_from_color_obj(wb[sheet][cell].fill.fgColor)\n",
    "\n",
    "def get_cell_top_border_color(wb, sheet, cell):\n",
    "    return get_rbg_from_color_obj(wb[sheet][cell].border.top.color)\n",
    "\n",
    "def get_cell_bottom_border_color(wb, sheet, cell):\n",
    "    return get_rbg_from_color_obj(wb[sheet][cell].border.bottom.color)\n",
    "\n",
    "def get_cell_left_border_color(wb, sheet, cell):\n",
    "    return get_rbg_from_color_obj(wb[sheet][cell].border.left.color)\n",
    "\n",
    "def get_cell_right_border_color(wb, sheet, cell):\n",
    "    return get_rbg_from_color_obj(wb[sheet][cell].border.right.color)\n",
    "\n",
    "def get_cell_top_border_thickness(wb, sheet, cell):\n",
    "    return get_border_thickness_in_pixels(wb[sheet][cell].border.top)\n",
    "\n",
    "def get_cell_bottom_border_thickness(wb, sheet, cell):\n",
    "    return get_border_thickness_in_pixels(wb[sheet][cell].border.bottom)\n",
    "\n",
    "def get_cell_left_border_thickness(wb, sheet, cell):\n",
    "    return get_border_thickness_in_pixels(wb[sheet][cell].border.left)\n",
    "\n",
    "def get_cell_right_border_thickness(wb, sheet, cell):\n",
    "    return get_border_thickness_in_pixels(wb[sheet][cell].border.right)\n",
    "\n",
    "def get_cell_data(wb, sheet, cell):\n",
    "    data = {}\n",
    "    data['value'] = get_cell_value(wb, sheet, cell)\n",
    "    data['font_color'] = get_cell_font_color(wb, sheet, cell)\n",
    "    data['fill_color'] = get_cell_fill_color(wb, sheet, cell)\n",
    "    data['top_border_color'] = get_cell_top_border_color(wb, sheet, cell)\n",
    "    data['bottom_border_color'] = get_cell_bottom_border_color(wb, sheet, cell)\n",
    "    data['left_border_color'] = get_cell_left_border_color(wb, sheet, cell)\n",
    "    data['right_border_color'] = get_cell_right_border_color(wb, sheet, cell)\n",
    "    data['top_border_thickness'] = get_cell_top_border_thickness(wb, sheet, cell)\n",
    "    data['bottom_border_thickness'] = get_cell_bottom_border_thickness(wb, sheet, cell)\n",
    "    data['left_border_thickness'] = get_cell_left_border_thickness(wb, sheet, cell)\n",
    "    data['right_border_thickness'] = get_cell_right_border_thickness(wb, sheet, cell)\n",
    "    return data"
   ]
  },
  {
   "cell_type": "code",
   "execution_count": 2,
   "metadata": {},
   "outputs": [
    {
     "name": "stdout",
     "output_type": "stream",
     "text": [
      "14\n"
     ]
    }
   ],
   "source": [
    "wb = openpyxl.load_workbook(filename='data/sample_data.xlsx')\n",
    "print(get_cell_value(wb, 'Summary Data', 'B7'))"
   ]
  },
  {
   "cell_type": "code",
   "execution_count": 3,
   "metadata": {},
   "outputs": [
    {
     "name": "stdout",
     "output_type": "stream",
     "text": [
      "6\n"
     ]
    }
   ],
   "source": [
    "wb = openpyxl.load_workbook(filename='data/sample_data.xlsx')\n",
    "print(get_cell_value(wb, 'Summary', 'B7'))"
   ]
  },
  {
   "cell_type": "code",
   "execution_count": 4,
   "metadata": {},
   "outputs": [
    {
     "name": "stdout",
     "output_type": "stream",
     "text": [
      "3 Days\n"
     ]
    }
   ],
   "source": [
    "wb = openpyxl.load_workbook(filename='D:\\Dropbox\\kdaquila_SoftwareDev\\By_Name\\python_tools_for_powerpoint_private_example1\\data\\Resurgence  by Covid Regions  09_16_2020.xlsx')\n",
    "print(get_cell_value(wb, 'Summary', 'B7'))"
   ]
  },
  {
   "cell_type": "code",
   "execution_count": 5,
   "metadata": {},
   "outputs": [
    {
     "name": "stdout",
     "output_type": "stream",
     "text": [
      "6\n"
     ]
    }
   ],
   "source": [
    "wb = openpyxl.load_workbook(filename='D:\\Dropbox\\kdaquila_SoftwareDev\\By_Name\\python_tools_for_powerpoint_private_example1\\data\\Resurgence  by Covid Regions  09_16_2020.xlsx')\n",
    "print(get_cell_value(wb, 'Summary Data', 'B7'))"
   ]
  },
  {
   "cell_type": "code",
   "execution_count": 26,
   "metadata": {},
   "outputs": [],
   "source": [
    "def print_dir(obj):\n",
    "    for x in dir(obj):\n",
    "        if x[0] != '_':\n",
    "            print(x)\n",
    "        "
   ]
  },
  {
   "cell_type": "code",
   "execution_count": 150,
   "metadata": {},
   "outputs": [
    {
     "name": "stdout",
     "output_type": "stream",
     "text": [
      "auto\n",
      "from_tree\n",
      "idx_base\n",
      "index\n",
      "indexed\n",
      "namespace\n",
      "rgb\n",
      "tagname\n",
      "theme\n",
      "tint\n",
      "to_tree\n",
      "type\n",
      "value\n"
     ]
    }
   ],
   "source": [
    "print_dir(wb['Summary']['F3'].fill.fgColor)"
   ]
  },
  {
   "cell_type": "code",
   "execution_count": 193,
   "metadata": {},
   "outputs": [
    {
     "data": {
      "text/plain": [
       "<openpyxl.styles.colors.Color object>\n",
       "Parameters:\n",
       "rgb='FFE2EFDA', indexed=None, auto=None, theme=None, tint=0.0, type='rgb'"
      ]
     },
     "execution_count": 193,
     "metadata": {},
     "output_type": "execute_result"
    }
   ],
   "source": [
    "wb = openpyxl.load_workbook(filename='data/sample_data.xlsx')\n",
    "wb['Colors']['J2'].fill.fgColor"
   ]
  },
  {
   "cell_type": "code",
   "execution_count": 67,
   "metadata": {},
   "outputs": [
    {
     "data": {
      "text/plain": [
       "'00333333'"
      ]
     },
     "execution_count": 67,
     "metadata": {},
     "output_type": "execute_result"
    }
   ],
   "source": [
    "from openpyxl.styles.colors import COLOR_INDEX\n",
    "c = COLOR_INDEX[wb['Summary']['B7'].fill.bgColor.value - 1]\n",
    "c"
   ]
  },
  {
   "cell_type": "code",
   "execution_count": 148,
   "metadata": {},
   "outputs": [
    {
     "data": {
      "text/plain": [
       "<openpyxl.styles.fills.PatternFill object>\n",
       "Parameters:\n",
       "patternType='solid', fgColor=<openpyxl.styles.colors.Color object>\n",
       "Parameters:\n",
       "rgb=None, indexed=None, auto=None, theme=4, tint=0.7999816888943144, type='theme', bgColor=<openpyxl.styles.colors.Color object>\n",
       "Parameters:\n",
       "rgb=None, indexed=64, auto=None, theme=None, tint=0.0, type='indexed'"
      ]
     },
     "execution_count": 148,
     "metadata": {},
     "output_type": "execute_result"
    }
   ],
   "source": [
    "wb['Summary']['B7'].fill"
   ]
  },
  {
   "cell_type": "code",
   "execution_count": 320,
   "metadata": {},
   "outputs": [
    {
     "name": "stdout",
     "output_type": "stream",
     "text": [
      "value                    : Header Name 1\n",
      "font_color               : None\n",
      "fill_color               : None\n",
      "top_border_color         : None\n",
      "bottom_border_color      : None\n",
      "left_border_color        : None\n",
      "right_border_color       : None\n",
      "top_border_thickness     : 4\n",
      "bottom_border_thickness  : 4\n",
      "left_border_thickness    : 4\n",
      "right_border_thickness   : 4\n"
     ]
    }
   ],
   "source": [
    "wb = openpyxl.load_workbook(filename='data/sample_data.xlsx')\n",
    "cell_data = get_cell_data(wb, 'Summary', 'F3')\n",
    "for key, value in cell_data.items():\n",
    "    print(\"{0:25s}: {1}\".format(key, value))"
   ]
  },
  {
   "cell_type": "code",
   "execution_count": 257,
   "metadata": {
    "collapsed": true,
    "jupyter": {
     "outputs_hidden": true
    }
   },
   "outputs": [
    {
     "name": "stdout",
     "output_type": "stream",
     "text": [
      "{'theme_id': 0, 'tint': 0.0, 'hex': 'FFFFFF'},\n",
      "{'theme_id': 0, 'tint': -0.05, 'hex': 'F2F2F2'},\n",
      "{'theme_id': 0, 'tint': -0.15, 'hex': 'D9D9D9'},\n",
      "{'theme_id': 0, 'tint': -0.25, 'hex': 'BFBFBF'},\n",
      "{'theme_id': 0, 'tint': -0.35, 'hex': 'A6A6A6'},\n",
      "{'theme_id': 0, 'tint': -0.5, 'hex': 808080},\n",
      "{'theme_id': 1, 'tint': 0.0, 'hex': '000000'},\n",
      "{'theme_id': 1, 'tint': 0.5, 'hex': 808080},\n",
      "{'theme_id': 1, 'tint': 0.35, 'hex': 595959},\n",
      "{'theme_id': 1, 'tint': 0.25, 'hex': 404040},\n",
      "{'theme_id': 1, 'tint': 0.15, 'hex': 262626},\n",
      "{'theme_id': 1, 'tint': 0.05, 'hex': '0D0D0D'},\n",
      "{'theme_id': 2, 'tint': 0.0, 'hex': 'E7E6E6'},\n",
      "{'theme_id': 2, 'tint': -0.1, 'hex': 'D0CECE'},\n",
      "{'theme_id': 2, 'tint': -0.25, 'hex': 'AEAAAA'},\n",
      "{'theme_id': 2, 'tint': -0.5, 'hex': '757171'},\n",
      "{'theme_id': 2, 'tint': -0.75, 'hex': '3A3838'},\n",
      "{'theme_id': 2, 'tint': -0.9, 'hex': '161616'},\n",
      "{'theme_id': 3, 'tint': 0.0, 'hex': '44546A'},\n",
      "{'theme_id': 3, 'tint': 0.8, 'hex': 'D6DCE4'},\n",
      "{'theme_id': 3, 'tint': 0.6, 'hex': 'ACB9CA'},\n",
      "{'theme_id': 3, 'tint': 0.4, 'hex': '8497B0'},\n",
      "{'theme_id': 3, 'tint': -0.25, 'hex': '333F4F'},\n",
      "{'theme_id': 3, 'tint': -0.5, 'hex': '222B35'},\n",
      "{'theme_id': 4, 'tint': 0.0, 'hex': '4472C4'},\n",
      "{'theme_id': 4, 'tint': 0.8, 'hex': 'D9E1F2'},\n",
      "{'theme_id': 4, 'tint': 0.6, 'hex': 'B4C6E7'},\n",
      "{'theme_id': 4, 'tint': 0.4, 'hex': '8EA9DB'},\n",
      "{'theme_id': 4, 'tint': -0.25, 'hex': '305496'},\n",
      "{'theme_id': 4, 'tint': -0.5, 'hex': '203764'},\n",
      "{'theme_id': 5, 'tint': 0.0, 'hex': 'ED7D31'},\n",
      "{'theme_id': 5, 'tint': 0.8, 'hex': 'FCE4D6'},\n",
      "{'theme_id': 5, 'tint': 0.6, 'hex': 'F8CBAD'},\n",
      "{'theme_id': 5, 'tint': 0.4, 'hex': 'F4B084'},\n",
      "{'theme_id': 5, 'tint': -0.25, 'hex': 'C65911'},\n",
      "{'theme_id': 5, 'tint': -0.5, 'hex': '833C0C'},\n",
      "{'theme_id': 6, 'tint': 0.0, 'hex': 'A5A5A5'},\n",
      "{'theme_id': 6, 'tint': 0.8, 'hex': 'EDEDED'},\n",
      "{'theme_id': 6, 'tint': 0.6, 'hex': 'DBDBDB'},\n",
      "{'theme_id': 6, 'tint': 0.4, 'hex': 'C9C9C9'},\n",
      "{'theme_id': 6, 'tint': -0.25, 'hex': '7B7B7B'},\n",
      "{'theme_id': 6, 'tint': -0.5, 'hex': '525252'},\n",
      "{'theme_id': 7, 'tint': 0.0, 'hex': 'FFC000'},\n",
      "{'theme_id': 7, 'tint': 0.8, 'hex': 'FFF2CC'},\n",
      "{'theme_id': 7, 'tint': 0.6, 'hex': 'FFE699'},\n",
      "{'theme_id': 7, 'tint': 0.4, 'hex': 'FFD966'},\n",
      "{'theme_id': 7, 'tint': -0.25, 'hex': 'BF8F00'},\n",
      "{'theme_id': 7, 'tint': -0.5, 'hex': '806000'},\n",
      "{'theme_id': 8, 'tint': 0.0, 'hex': '5B9BD5'},\n",
      "{'theme_id': 8, 'tint': 0.8, 'hex': 'DDEBF7'},\n",
      "{'theme_id': 8, 'tint': 0.6, 'hex': 'BDD7EE'},\n",
      "{'theme_id': 8, 'tint': 0.4, 'hex': '9BC2E6'},\n",
      "{'theme_id': 8, 'tint': -0.25, 'hex': '2F75B5'},\n",
      "{'theme_id': 8, 'tint': -0.5, 'hex': '1F4E78'},\n",
      "{'theme_id': 9, 'tint': 0.0, 'hex': '70AD47'},\n",
      "{'theme_id': 9, 'tint': 0.8, 'hex': 'E2EFDA'},\n",
      "{'theme_id': 9, 'tint': 0.6, 'hex': 'C6E0B4'},\n",
      "{'theme_id': 9, 'tint': 0.4, 'hex': 'A9D08E'},\n",
      "{'theme_id': 9, 'tint': -0.25, 'hex': '548235'},\n",
      "{'theme_id': 9, 'tint': -0.5, 'hex': '375623'},\n"
     ]
    }
   ],
   "source": [
    "wb = openpyxl.load_workbook(filename='data/sample_data.xlsx')\n",
    "excel_colors = []\n",
    "sheet = 'Colors'\n",
    "for letter_code in range(ord('A'), ord('J')+1):\n",
    "    letter = chr(letter_code)\n",
    "    for i in range(1,7):\n",
    "        cell_ref = letter + str(i)\n",
    "        hex_string = get_cell_value(wb, sheet, cell_ref)\n",
    "        theme = wb[sheet][cell_ref].fill.fgColor.theme\n",
    "        tint = wb[sheet][cell_ref].fill.fgColor.tint        \n",
    "        excel_colors.append({'theme_id': theme, 'tint': round(tint,2), 'hex': hex_string})\n",
    "\n",
    "for color in excel_colors:\n",
    "    print(str(color) + \",\")"
   ]
  },
  {
   "cell_type": "code",
   "execution_count": 199,
   "metadata": {},
   "outputs": [
    {
     "name": "stdout",
     "output_type": "stream",
     "text": [
      "3.64\n"
     ]
    }
   ],
   "source": [
    "\n",
    "\n",
    "def find_closest_number(items, target):       \n",
    "    return items[min(range(len(items)), key = lambda i: abs(items[i]-target))] \n",
    "      \n",
    "# Driver code \n",
    "items = [3.64, 5.2, 9.42, 9.35, 8.5, 8] \n",
    "target = 3.63\n",
    "print(find_closest_number(items, target)) "
   ]
  },
  {
   "cell_type": "code",
   "execution_count": 272,
   "metadata": {},
   "outputs": [],
   "source": [
    "def find_theme_color_hex(theme_id, tint, theme_colors):\n",
    "    for color in theme_colors:\n",
    "        if color['theme_id'] == theme_id and color['tint'] == round(tint,2):\n",
    "            return color['hex']\n",
    "    return None\n",
    "\n",
    "def find_theme_color_name(theme_id, tint, theme_colors):\n",
    "    for color in theme_colors:\n",
    "        if color['theme_id'] == theme_id and color['tint'] == round(tint,2):\n",
    "            return color['theme_name']\n",
    "    return None\n",
    "\n",
    "office_theme_colors = [\n",
    "{'theme_name':'BACKGROUND_1', 'theme_id': 0, 'tint': 0.0, 'hex': 'FFFFFF'},\n",
    "{'theme_name':'BACKGROUND_1', 'theme_id': 0, 'tint': -0.05, 'hex': 'F2F2F2'},\n",
    "{'theme_name':'BACKGROUND_1', 'theme_id': 0, 'tint': -0.15, 'hex': 'D9D9D9'},\n",
    "{'theme_name':'BACKGROUND_1', 'theme_id': 0, 'tint': -0.25, 'hex': 'BFBFBF'},\n",
    "{'theme_name':'BACKGROUND_1', 'theme_id': 0, 'tint': -0.35, 'hex': 'A6A6A6'},\n",
    "{'theme_name':'BACKGROUND_1', 'theme_id': 0, 'tint': -0.5, 'hex': '808080'},\n",
    "{'theme_name':'TEXT_1', 'theme_id': 1, 'tint': 0.0, 'hex': '000000'},\n",
    "{'theme_name':'TEXT_1', 'theme_id': 1, 'tint': 0.5, 'hex': '808080'},\n",
    "{'theme_name':'TEXT_1', 'theme_id': 1, 'tint': 0.35, 'hex': '595959'},\n",
    "{'theme_name':'TEXT_1', 'theme_id': 1, 'tint': 0.25, 'hex': '404040'},\n",
    "{'theme_name':'TEXT_1', 'theme_id': 1, 'tint': 0.15, 'hex': '262626'},\n",
    "{'theme_name':'TEXT_1', 'theme_id': 1, 'tint': 0.05, 'hex': '0D0D0D'},    \n",
    "{'theme_name':'BACKGROUND_2', 'theme_id': 2, 'tint': 0.0, 'hex': 'E7E6E6'},\n",
    "{'theme_name':'BACKGROUND_2', 'theme_id': 2, 'tint': -0.1, 'hex': 'D0CECE'},\n",
    "{'theme_name':'BACKGROUND_2', 'theme_id': 2, 'tint': -0.25, 'hex': 'AEAAAA'},\n",
    "{'theme_name':'BACKGROUND_2', 'theme_id': 2, 'tint': -0.5, 'hex': '757171'},\n",
    "{'theme_name':'BACKGROUND_2', 'theme_id': 2, 'tint': -0.75, 'hex': '3A3838'},\n",
    "{'theme_name':'BACKGROUND_2', 'theme_id': 2, 'tint': -0.9, 'hex': '161616'},\n",
    "{'theme_name':'TEXT_2', 'theme_id': 3, 'tint': 0.0, 'hex': '44546A'},\n",
    "{'theme_name':'TEXT_2', 'theme_id': 3, 'tint': 0.8, 'hex': 'D6DCE4'},\n",
    "{'theme_name':'TEXT_2', 'theme_id': 3, 'tint': 0.6, 'hex': 'ACB9CA'},\n",
    "{'theme_name':'TEXT_2', 'theme_id': 3, 'tint': 0.4, 'hex': '8497B0'},\n",
    "{'theme_name':'TEXT_2', 'theme_id': 3, 'tint': -0.25, 'hex': '333F4F'},\n",
    "{'theme_name':'TEXT_2', 'theme_id': 3, 'tint': -0.5, 'hex': '222B35'},\n",
    "{'theme_name':'ACCENT_1', 'theme_id': 4, 'tint': 0.0, 'hex': '4472C4'},\n",
    "{'theme_name':'ACCENT_1', 'theme_id': 4, 'tint': 0.8, 'hex': 'D9E1F2'},\n",
    "{'theme_name':'ACCENT_1', 'theme_id': 4, 'tint': 0.6, 'hex': 'B4C6E7'},\n",
    "{'theme_name':'ACCENT_1', 'theme_id': 4, 'tint': 0.4, 'hex': '8EA9DB'},\n",
    "{'theme_name':'ACCENT_1', 'theme_id': 4, 'tint': -0.25, 'hex': '305496'},\n",
    "{'theme_name':'ACCENT_1', 'theme_id': 4, 'tint': -0.5, 'hex': '203764'},\n",
    "{'theme_name':'ACCENT_2', 'theme_id': 5, 'tint': 0.0, 'hex': 'ED7D31'},\n",
    "{'theme_name':'ACCENT_2', 'theme_id': 5, 'tint': 0.8, 'hex': 'FCE4D6'},\n",
    "{'theme_name':'ACCENT_2', 'theme_id': 5, 'tint': 0.6, 'hex': 'F8CBAD'},\n",
    "{'theme_name':'ACCENT_2', 'theme_id': 5, 'tint': 0.4, 'hex': 'F4B084'},\n",
    "{'theme_name':'ACCENT_2', 'theme_id': 5, 'tint': -0.25, 'hex': 'C65911'},\n",
    "{'theme_name':'ACCENT_2', 'theme_id': 5, 'tint': -0.5, 'hex': '833C0C'},\n",
    "{'theme_name':'ACCENT_3', 'theme_id': 6, 'tint': 0.0, 'hex': 'A5A5A5'},\n",
    "{'theme_name':'ACCENT_3', 'theme_id': 6, 'tint': 0.8, 'hex': 'EDEDED'},\n",
    "{'theme_name':'ACCENT_3', 'theme_id': 6, 'tint': 0.6, 'hex': 'DBDBDB'},\n",
    "{'theme_name':'ACCENT_3', 'theme_id': 6, 'tint': 0.4, 'hex': 'C9C9C9'},\n",
    "{'theme_name':'ACCENT_3', 'theme_id': 6, 'tint': -0.25, 'hex': '7B7B7B'},\n",
    "{'theme_name':'ACCENT_3', 'theme_id': 6, 'tint': -0.5, 'hex': '525252'},\n",
    "{'theme_name':'ACCENT_4', 'theme_id': 7, 'tint': 0.0, 'hex': 'FFC000'},\n",
    "{'theme_name':'ACCENT_4', 'theme_id': 7, 'tint': 0.8, 'hex': 'FFF2CC'},\n",
    "{'theme_name':'ACCENT_4', 'theme_id': 7, 'tint': 0.6, 'hex': 'FFE699'},\n",
    "{'theme_name':'ACCENT_4', 'theme_id': 7, 'tint': 0.4, 'hex': 'FFD966'},\n",
    "{'theme_name':'ACCENT_4', 'theme_id': 7, 'tint': -0.25, 'hex': 'BF8F00'},\n",
    "{'theme_name':'ACCENT_4', 'theme_id': 7, 'tint': -0.5, 'hex': '806000'},\n",
    "{'theme_name':'ACCENT_5', 'theme_id': 8, 'tint': 0.0, 'hex': '5B9BD5'},\n",
    "{'theme_name':'ACCENT_5', 'theme_id': 8, 'tint': 0.8, 'hex': 'DDEBF7'},\n",
    "{'theme_name':'ACCENT_5', 'theme_id': 8, 'tint': 0.6, 'hex': 'BDD7EE'},\n",
    "{'theme_name':'ACCENT_5', 'theme_id': 8, 'tint': 0.4, 'hex': '9BC2E6'},\n",
    "{'theme_name':'ACCENT_5', 'theme_id': 8, 'tint': -0.25, 'hex': '2F75B5'},\n",
    "{'theme_name':'ACCENT_5', 'theme_id': 8, 'tint': -0.5, 'hex': '1F4E78'},\n",
    "{'theme_name':'ACCENT_6', 'theme_id': 9, 'tint': 0.0, 'hex': '70AD47'},\n",
    "{'theme_name':'ACCENT_6', 'theme_id': 9, 'tint': 0.8, 'hex': 'E2EFDA'},\n",
    "{'theme_name':'ACCENT_6', 'theme_id': 9, 'tint': 0.6, 'hex': 'C6E0B4'},\n",
    "{'theme_name':'ACCENT_6', 'theme_id': 9, 'tint': 0.4, 'hex': 'A9D08E'},\n",
    "{'theme_name':'ACCENT_6', 'theme_id': 9, 'tint': -0.25, 'hex': '548235'},\n",
    "{'theme_name':'ACCENT_6', 'theme_id': 9, 'tint': -0.5, 'hex': '375623'}\n",
    "]"
   ]
  },
  {
   "cell_type": "code",
   "execution_count": 262,
   "metadata": {},
   "outputs": [
    {
     "data": {
      "text/plain": [
       "14"
      ]
     },
     "execution_count": 262,
     "metadata": {},
     "output_type": "execute_result"
    }
   ],
   "source": [
    "from pptx.enum.dml import MSO_THEME_COLOR\n",
    "getattr(MSO_THEME_COLOR, 'BACKGROUND_1')"
   ]
  },
  {
   "cell_type": "code",
   "execution_count": 310,
   "metadata": {},
   "outputs": [],
   "source": [
    "# Open the Excel file\n",
    "import openpyxl\n",
    "wb = openpyxl.load_workbook(filename='data/sample_data.xlsx')\n",
    "\n",
    "# Get the cell object\n",
    "sheet = 'Sample'\n",
    "cell = 'A1'\n",
    "excel_cell_obj = wb[sheet][cell]\n",
    "cell_value = get_cell_value(wb, sheet, cell)\n",
    "\n",
    "# Open the PowerPoint file\n",
    "import pptx\n",
    "from pptx.util import Inches\n",
    "prs = pptx.Presentation()\n",
    "blank_slide_layout = prs.slide_layouts[6]\n",
    "slide = prs.slides.add_slide(blank_slide_layout)\n",
    "table = slide.shapes.add_table(rows=2, cols=2, left=Inches(1), top=Inches(1), width=Inches(2), height=Inches(2))\n",
    "\n",
    "# Set the cell value\n",
    "table.table.cell(1, 0).text = cell_value\n",
    "\n",
    "# Transfer font color\n",
    "from pptx.dml.color import RGBColor\n",
    "theme_val = excel_cell_obj.font.color.theme\n",
    "tint_val = excel_cell_obj.font.color.tint\n",
    "table.table.cell(1,0).text_frame.paragraphs[0].runs[0].font.color.rgb = RGBColor.from_string(find_theme_color_hex(theme_val, tint_val, office_theme_colors))\n",
    "\n",
    "# Transfer fill color\n",
    "theme_val = excel_cell_obj.fill.fgColor.theme\n",
    "tint_val = excel_cell_obj.fill.fgColor.tint\n",
    "table.table.cell(1,0).fill.solid()\n",
    "table.table.cell(1,0).fill.fore_color.rgb = RGBColor.from_string(find_theme_color_hex(theme_val, tint_val, office_theme_colors))\n",
    "\n",
    "\n",
    "# Save the PowerPoint file\n",
    "prs.save(\"data/sample.pptx\")\n",
    "\n",
    "\n"
   ]
  },
  {
   "cell_type": "code",
   "execution_count": 221,
   "metadata": {},
   "outputs": [],
   "source": [
    "def transfer_font_color(excel_cell_obj, ppt_cell_obj):\n",
    "    color_type = excel_cell_obj.font.color.type\n",
    "    if color_type == 'theme':    \n",
    "        theme_val = excel_cell_obj.font.color.theme\n",
    "        tint_val = excel_cell_obj.font.color.tint\n",
    "        return \n",
    "    elif color_type == 'rgb':\n",
    "        return color_obj.value\n",
    "    elif color_type = 'indexed':\n",
    "        openpyxl.styles.colors.COLOR_INDEX[color_obj.value - 1]\n",
    "        "
   ]
  },
  {
   "cell_type": "code",
   "execution_count": 317,
   "metadata": {},
   "outputs": [
    {
     "name": "stdout",
     "output_type": "stream",
     "text": [
      "fill\n",
      "is_merge_origin\n",
      "is_spanned\n",
      "margin_bottom\n",
      "margin_left\n",
      "margin_right\n",
      "margin_top\n",
      "merge\n",
      "part\n",
      "span_height\n",
      "span_width\n",
      "split\n",
      "text\n",
      "text_frame\n",
      "vertical_anchor\n"
     ]
    }
   ],
   "source": [
    "print_dir(table.table.cell(1,0))"
   ]
  },
  {
   "cell_type": "code",
   "execution_count": 319,
   "metadata": {},
   "outputs": [
    {
     "ename": "AttributeError",
     "evalue": "'_Cell' object has no attribute 'line'",
     "output_type": "error",
     "traceback": [
      "\u001b[1;31m---------------------------------------------------------------------------\u001b[0m",
      "\u001b[1;31mAttributeError\u001b[0m                            Traceback (most recent call last)",
      "\u001b[1;32m<ipython-input-319-cf8ea7ad6294>\u001b[0m in \u001b[0;36m<module>\u001b[1;34m\u001b[0m\n\u001b[1;32m----> 1\u001b[1;33m \u001b[0mtable\u001b[0m\u001b[1;33m.\u001b[0m\u001b[0mtable\u001b[0m\u001b[1;33m.\u001b[0m\u001b[0mcell\u001b[0m\u001b[1;33m(\u001b[0m\u001b[1;36m1\u001b[0m\u001b[1;33m,\u001b[0m\u001b[1;36m0\u001b[0m\u001b[1;33m)\u001b[0m\u001b[1;33m.\u001b[0m\u001b[0mline\u001b[0m\u001b[1;33m\u001b[0m\u001b[1;33m\u001b[0m\u001b[0m\n\u001b[0m",
      "\u001b[1;31mAttributeError\u001b[0m: '_Cell' object has no attribute 'line'"
     ]
    }
   ],
   "source": [
    "table.table.cell(1,0).line"
   ]
  },
  {
   "cell_type": "code",
   "execution_count": null,
   "metadata": {},
   "outputs": [],
   "source": []
  }
 ],
 "metadata": {
  "kernelspec": {
   "display_name": "Python 3",
   "language": "python",
   "name": "python3"
  },
  "language_info": {
   "codemirror_mode": {
    "name": "ipython",
    "version": 3
   },
   "file_extension": ".py",
   "mimetype": "text/x-python",
   "name": "python",
   "nbconvert_exporter": "python",
   "pygments_lexer": "ipython3",
   "version": "3.7.9"
  }
 },
 "nbformat": 4,
 "nbformat_minor": 4
}
